{
  "nbformat": 4,
  "nbformat_minor": 0,
  "metadata": {
    "colab": {
      "provenance": []
    },
    "kernelspec": {
      "name": "python3",
      "display_name": "Python 3"
    },
    "language_info": {
      "name": "python"
    }
  },
  "cells": [
    {
      "cell_type": "code",
      "execution_count": 25,
      "metadata": {
        "id": "Qxl6tLe9oPyU"
      },
      "outputs": [],
      "source": [
        "import joblib\n",
        "import pandas as pd\n",
        "import numpy as np\n",
        "from sklearn.model_selection import train_test_split\n",
        "from sklearn.preprocessing import StandardScaler, OneHotEncoder\n",
        "from sklearn.metrics import mean_squared_error\n",
        "from sklearn.compose import ColumnTransformer\n",
        "from sklearn.pipeline import Pipeline\n",
        "from sklearn.impute import SimpleImputer\n",
        "import torch\n",
        "from torch import nn\n",
        "from torch.optim import Adam"
      ]
    },
    {
      "cell_type": "code",
      "source": [
        "df = pd.read_csv('housing.csv')"
      ],
      "metadata": {
        "id": "7P8D39OeuSQx"
      },
      "execution_count": 26,
      "outputs": []
    },
    {
      "cell_type": "code",
      "source": [
        "df.info()"
      ],
      "metadata": {
        "id": "RlOmIpAs00f3",
        "outputId": "a12cc9f3-88f7-48a7-d0c1-be7a47007c90",
        "colab": {
          "base_uri": "https://localhost:8080/"
        }
      },
      "execution_count": 27,
      "outputs": [
        {
          "output_type": "stream",
          "name": "stdout",
          "text": [
            "<class 'pandas.core.frame.DataFrame'>\n",
            "RangeIndex: 20640 entries, 0 to 20639\n",
            "Data columns (total 10 columns):\n",
            " #   Column              Non-Null Count  Dtype  \n",
            "---  ------              --------------  -----  \n",
            " 0   longitude           20640 non-null  float64\n",
            " 1   latitude            20640 non-null  float64\n",
            " 2   housing_median_age  20640 non-null  float64\n",
            " 3   total_rooms         20640 non-null  float64\n",
            " 4   total_bedrooms      20433 non-null  float64\n",
            " 5   population          20640 non-null  float64\n",
            " 6   households          20640 non-null  float64\n",
            " 7   median_income       20640 non-null  float64\n",
            " 8   median_house_value  20640 non-null  float64\n",
            " 9   ocean_proximity     20640 non-null  object \n",
            "dtypes: float64(9), object(1)\n",
            "memory usage: 1.6+ MB\n"
          ]
        }
      ]
    },
    {
      "cell_type": "code",
      "source": [
        "df['total_bedrooms'] = df['total_bedrooms'].fillna(df['total_bedrooms'].mean())"
      ],
      "metadata": {
        "id": "2VyqpBFJ5JEe"
      },
      "execution_count": 28,
      "outputs": []
    },
    {
      "cell_type": "code",
      "source": [
        "answer = 'median_house_value'\n",
        "x = df.drop(answer, axis=1)\n",
        "y = df[answer]"
      ],
      "metadata": {
        "id": "0I_I0rznyzzz"
      },
      "execution_count": 29,
      "outputs": []
    },
    {
      "cell_type": "code",
      "source": [
        "sc = StandardScaler()\n",
        "oe = OneHotEncoder()"
      ],
      "metadata": {
        "id": "s-Tofnrk4ush"
      },
      "execution_count": 30,
      "outputs": []
    },
    {
      "cell_type": "code",
      "source": [
        "numeric = df.select_dtypes(include='float64').columns\n",
        "categorical = df.select_dtypes(include='object').columns\n",
        "# print(numeric)\n",
        "# print(categorical)"
      ],
      "metadata": {
        "id": "QSIppJOf45Fh"
      },
      "execution_count": 31,
      "outputs": []
    },
    {
      "cell_type": "code",
      "source": [
        "num_transformer = Pipeline(\n",
        "    steps=[\n",
        "        ('imputer', SimpleImputer(strategy='median')),   # bosh joylar to'ldirilmoqda\n",
        "        ('num', sc)\n",
        "    ]\n",
        ")\n",
        "\n",
        "cat_transformer = Pipeline(\n",
        "    steps=[\n",
        "        ('imputer', SimpleImputer(strategy='most_frequent')),  # bosh joylar to'ldirilmoqda\n",
        "        ('cut', oe)\n",
        "    ]\n",
        ")"
      ],
      "metadata": {
        "id": "GcdNOLhp5Dr6"
      },
      "execution_count": 32,
      "outputs": []
    },
    {
      "cell_type": "code",
      "source": [
        "preprocessor = ColumnTransformer(\n",
        "    transformers=[\n",
        "        ('num', num_transformer, numeric.drop('median_house_value')), # num_transformer bilan cat_transformer chaqirib oldik\n",
        "        ('cat', cat_transformer, categorical),\n",
        "    ]\n",
        ")"
      ],
      "metadata": {
        "id": "B7F88Xw963NE"
      },
      "execution_count": 33,
      "outputs": []
    },
    {
      "cell_type": "code",
      "source": [
        "x_processed = preprocessor.fit_transform(x) # preprocessor chaqirib oldik\n",
        "y_processed = np.log1p(y) # ---> ln yordamida --> katta sonni oralig'ini kichikroq oraliqga olib kelish"
      ],
      "metadata": {
        "id": "FYmoeapE7tuk"
      },
      "execution_count": 34,
      "outputs": []
    },
    {
      "cell_type": "code",
      "source": [
        "x_train, x_test, y_train, y_test, = train_test_split(x_processed,y_processed, test_size=0.25, random_state=42)"
      ],
      "metadata": {
        "id": "uo7y7RzyD3tC"
      },
      "execution_count": 35,
      "outputs": []
    },
    {
      "cell_type": "code",
      "source": [
        "x_train_tensor = torch.FloatTensor(x_train) # Torch tushunadigan formatga otkazish\n",
        "x_test_tensor = torch.FloatTensor(x_test) # Torch tushunadigan formatga otkazish\n",
        "y_train_tensor = torch.FloatTensor(y_train.values).reshape(-1,1) # matritsa korinishiga olib kelindi\n",
        "y_test_tensor = torch.FloatTensor(y_test.values).reshape(-1,1) # matritsa korinishiga olib kelindi"
      ],
      "metadata": {
        "id": "O3g_ZMX8GZX3"
      },
      "execution_count": 36,
      "outputs": []
    },
    {
      "cell_type": "code",
      "source": [
        "print(f\"{x_train_tensor}\")\n",
        "print(f\"{x_test_tensor}\")\n",
        "print(f\"{y_train_tensor}\")\n",
        "print(f\"{y_test_tensor}\")"
      ],
      "metadata": {
        "colab": {
          "base_uri": "https://localhost:8080/"
        },
        "id": "Mvsg5jidHi8L",
        "outputId": "039dd236-ea1a-42c4-e2b3-7435f09ad4b0"
      },
      "execution_count": 37,
      "outputs": [
        {
          "output_type": "stream",
          "name": "stdout",
          "text": [
            "tensor([[ 0.7236, -0.8530,  0.6643,  ...,  0.0000,  0.0000,  0.0000],\n",
            "        [-1.2031,  0.7155,  1.0616,  ...,  0.0000,  0.0000,  0.0000],\n",
            "        [-1.5574,  1.3194,  0.5849,  ...,  0.0000,  0.0000,  0.0000],\n",
            "        ...,\n",
            "        [ 0.5938, -0.7500,  0.5849,  ...,  0.0000,  0.0000,  0.0000],\n",
            "        [-1.1931,  0.9121, -1.0838,  ...,  0.0000,  0.0000,  0.0000],\n",
            "        [-1.4227,  1.0010,  1.8562,  ...,  0.0000,  1.0000,  0.0000]])\n",
            "tensor([[ 0.2794,  0.2004, -0.2892,  ...,  0.0000,  0.0000,  0.0000],\n",
            "        [ 0.0548, -0.2303,  0.1081,  ...,  0.0000,  0.0000,  0.0000],\n",
            "        [-1.4327,  1.0151,  1.8562,  ...,  0.0000,  1.0000,  0.0000],\n",
            "        ...,\n",
            "        [ 0.6537, -0.7547,  0.6643,  ...,  0.0000,  0.0000,  0.0000],\n",
            "        [-0.7439,  1.3475, -1.7989,  ...,  0.0000,  0.0000,  0.0000],\n",
            "        [ 0.5838, -0.8155,  0.5849,  ...,  0.0000,  0.0000,  0.0000]])\n",
            "tensor([[12.3393],\n",
            "        [12.5422],\n",
            "        [12.1172],\n",
            "        ...,\n",
            "        [12.3109],\n",
            "        [12.5550],\n",
            "        [12.6916]])\n",
            "tensor([[10.7727],\n",
            "        [10.7321],\n",
            "        [13.1224],\n",
            "        ...,\n",
            "        [11.6759],\n",
            "        [12.4803],\n",
            "        [13.0847]])\n"
          ]
        }
      ]
    },
    {
      "cell_type": "code",
      "source": [
        "# birinchi qavatga nechta neyron bolishini bilish uchun datasetda nechta ustun bolsa shuncha neyron yaratamiz\n",
        "class HousePrice(nn.Module):\n",
        "  def __init__(self, input_size):\n",
        "    super().__init__()\n",
        "    self.layer1 = nn.Linear(input_size,16)\n",
        "    self.layer2 = nn.Linear(16,8)\n",
        "    self.layer3 = nn.Linear(8,4)\n",
        "    self.layer4 = nn.Linear(4,2)\n",
        "    self.layer5 = nn.Linear(2,1)\n",
        "    self.dropout = nn.Dropout(0.2) # har gal 20 % neyronlar ochirib qoyildi --> natija yaxshi chiqmagungacha shu jarayon davom etaveradi\\\\\\//// maximum (0.5) neyronlarni ochirib qoysa boladi\n",
        "  def forward(self, x):\n",
        "    x = torch.relu(self.layer1(x))\n",
        "    x = self.dropout(x)\n",
        "    x = torch.relu(self.layer2(x))\n",
        "    x = self.dropout(x)\n",
        "    x = torch.relu(self.layer3(x))\n",
        "    x = self.dropout(x)\n",
        "    x = torch.relu(self.layer4(x))\n",
        "    x = self.dropout(x)\n",
        "    x = self.layer5(x)\n",
        "    return x\n",
        "\n",
        "input_size = x_train_tensor.shape[1]\n",
        "model = HousePrice(input_size)\n",
        "criterion = nn.MSELoss()\n",
        "optimizer = Adam(model.parameters(), lr=0.001) # learning_rate= orgatish tezligi # misol agar self study qilib nimanidur organsak kop vaqt ketib qoldai lekin ustoz bilan shu jarayonni teshlashtirsa boladi--> Adam optimizer xatolar kelganda toxtab qolmalikni taminlab beradi\n",
        "epoch = 200 # mse ozgarmay qolguncha epoch ni kopaytirishni davom ettiramiz\n",
        "batch_size = 50 # bittada necha uyni berib yuboramiza uy dan tashqari boshqa ma'lumot bolishi mumkin\n",
        "train_losses = []\n",
        "test_losses = []\n",
        "\n",
        "for i in range(epoch):\n",
        "  model.train()  # modelni train rejimiga qoydim\n",
        "  epoch_loss = 0\n",
        "  for j in range(0, len(x_train_tensor), batch_size):\n",
        "    batch_x = x_train_tensor[j:j+batch_size] # (0,49)--(50,99)--(100,149)\n",
        "    batch_y = y_train_tensor[j:j+batch_size]\n",
        "    outputs = model(batch_x)\n",
        "    loss = criterion(outputs,batch_y)\n",
        "    optimizer.zero_grad()\n",
        "    loss.backward()\n",
        "    optimizer.step()\n",
        "    epoch_loss += loss.item()\n",
        "  avg_loss = epoch_loss/len(x_train_tensor/batch_size)\n",
        "  train_losses.append(avg_loss)\n",
        "\n",
        "  model.eval()\n",
        "  with torch.no_grad():\n",
        "    test_outputs = model(x_test_tensor)\n",
        "    test_loss = criterion(test_outputs,y_test_tensor)\n",
        "    test_losses.append(test_loss.item())\n",
        "\n",
        "  if (i + 1) % 20 == 0:\n",
        "    print(f\"Epoch {i+1}/{epoch} Train Loss: {avg_loss}. Test loss: {test_loss.item()}\")\n"
      ],
      "metadata": {
        "colab": {
          "base_uri": "https://localhost:8080/"
        },
        "id": "Z3F5HN6cHsKD",
        "outputId": "237b3585-9694-41fb-8019-9252397b7500"
      },
      "execution_count": 39,
      "outputs": [
        {
          "output_type": "stream",
          "name": "stdout",
          "text": [
            "Epoch 20/200 Train Loss: 0.23643426859717653. Test loss: 2.5799968242645264\n",
            "Epoch 40/200 Train Loss: 0.03316731228076827. Test loss: 0.38469111919403076\n",
            "Epoch 60/200 Train Loss: 0.004244377712408701. Test loss: 0.15509995818138123\n",
            "Epoch 80/200 Train Loss: 0.004100237168294669. Test loss: 0.156645268201828\n",
            "Epoch 100/200 Train Loss: 0.004133235558732689. Test loss: 0.1566845029592514\n",
            "Epoch 120/200 Train Loss: 0.004103968861375668. Test loss: 0.15572306513786316\n",
            "Epoch 140/200 Train Loss: 0.004103527278747669. Test loss: 0.1582082360982895\n",
            "Epoch 160/200 Train Loss: 0.00413994262529205. Test loss: 0.1549810767173767\n",
            "Epoch 180/200 Train Loss: 0.004159680617256066. Test loss: 0.15499252080917358\n",
            "Epoch 200/200 Train Loss: 0.004146402841794861. Test loss: 0.15549080073833466\n"
          ]
        }
      ]
    },
    {
      "cell_type": "code",
      "source": [
        "model.eval()\n",
        "with torch.no_grad():\n",
        "  test_outputs = model(x_test_tensor)\n",
        "  test_loss = criterion(test_outputs,y_test_tensor)\n",
        "  test_mse = mean_squared_error(y_test_tensor.numpy(), test_outputs.numpy())\n",
        "  print(f\"Test mse: {np.sqrt(test_mse)}\")"
      ],
      "metadata": {
        "colab": {
          "base_uri": "https://localhost:8080/"
        },
        "id": "j3a7p4yVCZcC",
        "outputId": "8273a37a-6c07-4472-a487-33db18ce9f11"
      },
      "execution_count": 40,
      "outputs": [
        {
          "output_type": "stream",
          "name": "stdout",
          "text": [
            "Test mse: 0.3943232186142919\n"
          ]
        }
      ]
    },
    {
      "cell_type": "code",
      "source": [
        "new_house = pd.DataFrame({\n",
        "    'longitude':[-122.23]  ,\n",
        "    'latitude':[37.86],\n",
        "    'housing_median_age':[1],\n",
        "    'total_rooms':[1000],\n",
        "    'total_bedrooms':[200],\n",
        "    'population':[100],\n",
        "    'households':[400],\n",
        "    'median_income':[2],\n",
        "    'ocean_proximity':['NEAR BAY']\n",
        "})"
      ],
      "metadata": {
        "id": "rTDxxwv3RyMz"
      },
      "execution_count": 41,
      "outputs": []
    },
    {
      "cell_type": "code",
      "source": [
        "new_house_transformed = preprocessor.transform(new_house)\n",
        "new_house_tensor = torch.FloatTensor(new_house_transformed)\n",
        "with torch.no_grad():\n",
        "  predicted_price = model(new_house_tensor)\n",
        "  print(f\"New house price: {np.expm1(predicted_price.item())}\")"
      ],
      "metadata": {
        "colab": {
          "base_uri": "https://localhost:8080/"
        },
        "id": "WUWtSRKrSiWK",
        "outputId": "02d504a1-2b40-412a-a1ee-f8ce818a5a69"
      },
      "execution_count": 43,
      "outputs": [
        {
          "output_type": "stream",
          "name": "stdout",
          "text": [
            "New house price: 142935.7125675077\n"
          ]
        }
      ]
    },
    {
      "cell_type": "code",
      "source": [],
      "metadata": {
        "id": "7q9V_tygTnc2"
      },
      "execution_count": null,
      "outputs": []
    }
  ]
}